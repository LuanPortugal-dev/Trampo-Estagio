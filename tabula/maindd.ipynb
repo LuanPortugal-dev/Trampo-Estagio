{
 "metadata": {
  "language_info": {
   "codemirror_mode": {
    "name": "ipython",
    "version": 3
   },
   "file_extension": ".py",
   "mimetype": "text/x-python",
   "name": "python",
   "nbconvert_exporter": "python",
   "pygments_lexer": "ipython3",
   "version": "3.8.5-final"
  },
  "orig_nbformat": 2,
  "kernelspec": {
   "name": "python3",
   "display_name": "Python 3.8.5 64-bit (conda)",
   "metadata": {
    "interpreter": {
     "hash": "b3ba2566441a7c06988d0923437866b63cedc61552a5af99d1f4fb67d367b25f"
    }
   }
  }
 },
 "nbformat": 4,
 "nbformat_minor": 2,
 "cells": [
  {
   "cell_type": "code",
   "execution_count": 126,
   "metadata": {
    "tags": []
   },
   "outputs": [],
   "source": [
    "import tabula\n",
    "import os\n",
    "import pandas as pd\n",
    "import re\n",
    "from tqdm.notebook import tqdm\n",
    "\n",
    "\n",
    "pdf_folder = 'C:/tabula/pdfs/'\n",
    "paths = [pdf_folder + fn for fn in os.listdir(pdf_folder) if fn.endswith('.pdf')]\n",
    "\n",
    "\n",
    "def dados(df):\n",
    "    lista = df.columns.tolist()\n",
    "    cases = []\n",
    "\n",
    "    for i in lista:\n",
    "         \n",
    "        for z in df[i]:\n",
    "            #if \"CPF\" in z:\n",
    "            if re.search(r'(\\d\\d\\d.\\d\\d\\d.\\d\\d\\d-\\d\\d)', str(z)):\n",
    "                cpf = str(z).split()[-1].replace('.', '').replace('-', '')\n",
    "\n",
    "\n",
    "\n",
    "            if re.search(r'(\\d{4}-\\d{4})', str(z)):\n",
    "                telefone = str(z)\n",
    "                print(telefone)\n",
    "            \n",
    "\n",
    "\n",
    "            if \"(\" in str(z) and \")\" in str(z) and \"-\" in str(z) and \"Telefone\" not in str(z):\n",
    "                celular = str(z)\n",
    "               #print(celular)\n",
    "\n",
    "        \n",
    "            if \"@\" in str(z):\n",
    "                email = z.split()[-1]\n",
    "\n",
    "\n",
    "        for i in df[:3].values.tolist():\n",
    "            for z in i:\n",
    "                if str(z).isupper():          \n",
    "                    cases.append(z)\n",
    "                    nome = cases[0]\n",
    "                         \n",
    "    #print(nome)           \n",
    "\n"
   ]
  },
  {
   "cell_type": "code",
   "execution_count": 127,
   "metadata": {
    "tags": []
   },
   "outputs": [
    {
     "output_type": "display_data",
     "data": {
      "text/plain": "HBox(children=(HTML(value=''), FloatProgress(value=0.0, max=5.0), HTML(value='')))",
      "application/vnd.jupyter.widget-view+json": {
       "version_major": 2,
       "version_minor": 0,
       "model_id": "de1bb33b2dd84b6eafecd5d1fc3a68c2"
      }
     },
     "metadata": {}
    },
    {
     "output_type": "stream",
     "name": "stderr",
     "text": [
      "Got stderr: fev 25, 2021 10:19:56 AM org.apache.fontbox.ttf.CmapSubtable processSubtype14\n",
      "ADVERTÊNCIA: Format 14 cmap table is not supported and will be ignored\n",
      "\n",
      "Got stderr: fev 25, 2021 10:19:59 AM org.apache.fontbox.ttf.CmapSubtable processSubtype14\n",
      "ADVERTÊNCIA: Format 14 cmap table is not supported and will be ignored\n",
      "\n",
      "Got stderr: fev 25, 2021 10:20:01 AM org.apache.fontbox.ttf.CmapSubtable processSubtype14\n",
      "ADVERTÊNCIA: Format 14 cmap table is not supported and will be ignored\n",
      "\n",
      "Got stderr: fev 25, 2021 10:20:03 AM org.apache.fontbox.ttf.CmapSubtable processSubtype14\n",
      "ADVERTÊNCIA: Format 14 cmap table is not supported and will be ignored\n",
      "\n",
      "Got stderr: fev 25, 2021 10:20:05 AM org.apache.fontbox.ttf.CmapSubtable processSubtype14\n",
      "ADVERTÊNCIA: Format 14 cmap table is not supported and will be ignored\n",
      "\n",
      "\n"
     ]
    }
   ],
   "source": [
    "  for path in tqdm(paths):\n",
    "        list_df = tabula.read_pdf(path, encoding = 'latin1', pages= \"all\")\n",
    "        df = pd.concat([list_df[0], list_df[1]])\n",
    "\n",
    "        dados(df)"
   ]
  },
  {
   "cell_type": "code",
   "execution_count": null,
   "metadata": {},
   "outputs": [],
   "source": []
  }
 ]
}