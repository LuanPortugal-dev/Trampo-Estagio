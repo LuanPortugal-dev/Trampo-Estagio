{
 "metadata": {
  "language_info": {
   "codemirror_mode": {
    "name": "ipython",
    "version": 3
   },
   "file_extension": ".py",
   "mimetype": "text/x-python",
   "name": "python",
   "nbconvert_exporter": "python",
   "pygments_lexer": "ipython3",
   "version": "3.8.5-final"
  },
  "orig_nbformat": 2,
  "kernelspec": {
   "name": "python3",
   "display_name": "Python 3.8.5 64-bit ('ProgramData': virtualenv)",
   "metadata": {
    "interpreter": {
     "hash": "b3ba2566441a7c06988d0923437866b63cedc61552a5af99d1f4fb67d367b25f"
    }
   }
  }
 },
 "nbformat": 4,
 "nbformat_minor": 2,
 "cells": [
  {
   "cell_type": "code",
   "execution_count": 47,
   "metadata": {
    "tags": []
   },
   "outputs": [],
   "source": [
    "import tabula\n",
    "import os\n",
    "import pandas as pd\n",
    "import re\n",
    "from tqdm.notebook import tqdm"
   ]
  },
  {
   "cell_type": "code",
   "execution_count": null,
   "metadata": {},
   "outputs": [],
   "source": [
    "pdf_folder = 'C:/Users/luan.portugal/Desktop/Luan/Trampo-Estagio/tabula/pdfs/'\n",
    "paths = [pdf_folder + fn for fn in os.listdir(pdf_folder) if fn.endswith('.pdf')]"
   ]
  },
  {
   "cell_type": "code",
   "execution_count": null,
   "metadata": {},
   "outputs": [],
   "source": [
    "cases = []"
   ]
  },
  {
   "cell_type": "code",
   "execution_count": null,
   "metadata": {},
   "outputs": [],
   "source": [
    "for path in tqdm(paths):\n",
    "    list_df = tabula.read_pdf(path, encoding = 'latin1', pages= \"all\")"
   ]
  },
  {
   "cell_type": "code",
   "execution_count": null,
   "metadata": {},
   "outputs": [],
   "source": [
    "for i in list_df[0]:\n",
    "    for z in list_df[0][i]:     \n",
    "                \n",
    "        if re.search(r'(\\d\\d\\d.\\d\\d\\d.\\d\\d\\d-\\d\\d)', str(z)):\n",
    "            cpf = str(z).split()[-1].replace('.', '').replace('-', '')\n",
    "            #print(f'CPF: {cpf}')\n",
    "\n",
    "\n",
    "        if \"(\" in str(z) and \")\" in str(z) and \"-\" in str(z) and \"Telefone\" not in str(z) and re.search(r'(\\d)', str(z)): \n",
    "            telefone = str(z)[:17].replace('(', '').replace(')', '').replace('-', '').replace(' ','')\n",
    "            #print(f'Telefone: {telefone}')\n",
    "\n",
    "\n",
    "        if \"(\" in str(z) and \")\" in str(z) and \"-\" in str(z) and \"Celular\" not in str(z) and re.search(r'(\\d)', str(z)): \n",
    "            celular = str(z)[18:34].replace('(', '').replace(')', '').replace('-', '').replace(' ','')\n",
    "            #print(f'Celular: {celular}')\n",
    "\n",
    "\n",
    "        if \"@\" in str(z):\n",
    "            email = z.split()[-1]       \n",
    "            #print(f'Email: {email}')\n",
    "            \n",
    "        for z in list_df[0][i].values.tolist():\n",
    "            if str(z).isupper():\n",
    "                cases.append(z)\n",
    "                nome = cases[0].replace('.','').replace('-','').rstrip('0123456789')\n",
    "                print(nome)"
   ]
  },
  {
   "cell_type": "code",
   "execution_count": null,
   "metadata": {},
   "outputs": [],
   "source": [
    "\n",
    "  #nome = [i for i in lista  for z in df[i] for i in df[:3].values.tolist() for z in i if str(z).isupper()]\n",
    "\n",
    "    #cpf = [i for i in lista  for z in df[i] if re.search(r'(\\d\\d\\d.\\d\\d\\d.\\d\\d\\d-\\d\\d)', str(z))]\n",
    "    #cpf = str(z).split()[-1].replace('.', '').replace('-', '')\n",
    "\n",
    "    #telefone = [i for i in lista  for z in df[i] if \"(\" in str(z) and \")\" in str(z) and \"-\" in str(z) and \"Telefone\" not in str(z) and re.search(r'(\\d)', str(z))]\n",
    "    #telefone = str(z)[:17].replace('(', '').replace(')', '').replace('-', '').replace(' ','')\n",
    "\n",
    "    #celular = [i for i in lista  for z in df[i] for i in df[:3].values.tolist() for z in i if str(z).isupper()]\n",
    "    \n",
    "    #email = [i for i in lista  for z in df[i] for i in df[:3].values.tolist() for z in i if str(z).isupper()]\n",
    "\n",
    "\n",
    "\n",
    "    #enviar_dados(nome, cpf, email, telefone)     \n",
    "\n"
   ]
  },
  {
   "cell_type": "code",
   "execution_count": null,
   "metadata": {},
   "outputs": [],
   "source": [
    "df.iloc[0:1, 0:1].values[0][0]"
   ]
  }
 ]
}